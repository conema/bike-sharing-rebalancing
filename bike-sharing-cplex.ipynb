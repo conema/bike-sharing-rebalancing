{
 "cells": [
  {
   "cell_type": "markdown",
   "metadata": {},
   "source": [
    "# Bike Sharing Rebalancing Problem\n",
    "\n",
    "## Indice\n",
    "\n",
    "\n",
    "- [Indice](#Indice)\n",
    "- [Introduzione](#Introduzione)\n",
    "- [Inizializzazione del problema](#Inizializzazione-del-problema)\n",
    "    - [Plot delle stazioni e del deposito](#Plot-delle-stazioni-e-del-deposito)\n",
    "- [Modelli con CPLEX](#Modelli-con-CPLEX)\n",
    "    - [Formulazione 1](#Formulazione-1)\n",
    "        - [Visualizzazione del percorso con le domande](#Visualizzazione-del-percorso-con-le-domande-1)\n",
    "        - [Visualizzazione del percorso con il valore $\\theta$](#Visualizzazione-del-percorso-con-il-valore-theta)\n",
    "    - [Formulazione 2](#Formulazione-2)\n",
    "        - [Visualizzazione del percorso con le domande](#Visualizzazione-del-percorso-con-le-domande-2)\n",
    "        - [Visualizzazione del percorso con il valore $f_{ij}$](#Visualizzazione-del-percorso-con-il-valore-$f_{ij}$)\n",
    "    - [Formulazione 3](#Formulazione-3)\n",
    "        - [Visualizzazione del percorso con le domande](#Visualizzazione-del-percorso-con-le-domande-3)\n",
    "- [Valutazione](#Valutazione)\n",
    "\n",
    "\n",
    "\n",
    "## Introduzione\n",
    "\n",
    "Il problema del *bike sharing rebalancing* è un problema tipico del bike sharing. Questi sistemi offrono un servizio di mobilità mettendo a disposizione dei mezzi in diverse stazioni, in questo caso le biciclette, rendendo possibile il loro utilizzo condiviso tra gli utenti del servizio. In questo modo, un utente può prendere una bicicletta da una stazione, utilizzarla, e successivamente lasciarla nella stessa stazione di partenza o in un'altra disponibile, pagando il servizio in base al tempo di utilizzo del mezzo. Per il gestore questo tipo di sistema ha un costo che dipende da tanti fattori come, ad esempio, la manutenzione dei mezzi, la loro assicurazione e la loro redistribuzione sul territorio. \n",
    "\n",
    "Per mantenere una giusta redistribuzione delle biciclette bisogna garantire la presenza di un certo numero di mezzi ad ogni stazione, così come l'assenza di altri, in modo da consentire agli utenti di poter lasciare la bicicletta in uno stallo vuoto. In generale, dovrebbero esserci degli slot occupati e degli slot vuoti. La redistribuzione parte da un deposito, dove i veicoli adibiti allo spostamento delle biciclette, che posso essere pieni e vuoti già in partenza, possono effettuare 3 manovre:\n",
    "1. Una stazione nel tragitto ha una *domanda negativa*, quindi in mancanza di mezzi, in questo caso il veicolo scaricherà le bici necessarie per raggiungere l'equilibrio;\n",
    "2. Una stazione nel tragitto ha una *domanda positiva*, quindi ha un surplus di mezzi, in questo caso il veicolo caricherà al suo interno i veicoli in più;\n",
    "3. Una stazione nel tragitto ha una *domanda nulla*, quindi è in equilibrio, in questo caso il veicolo non deve effettuare nessuna manovra.\n",
    "\n",
    "Il problema da risolvere è quello di trovare il percorso migliore per effettuare il ribilanciamento delle stazioni, cercando di minimizzare i costi che il gestore del bike sharing dovrà sostenere per effettuare questa operazione. Si può quindi definire un problema di ottimizzazione per risolvere questo problema.\n",
    "\n",
    "\n",
    "Il problema di ottimizzazione della redistribuzione prende il nome di Bike sharing Rebalancing Problem (BRP), una versione più specifica del problema del commesso viaggiatore, ed è caratterizzato dai seguenti elementi: \n",
    "\n",
    "- $V$ è il set di vertici\n",
    "- $A$ è il set di archi\n",
    "- $n$ è il numero di stazioni\n",
    "- $m$ è il numero di veicoli\n",
    "- $Q$ è la capacità dei veicoli\n",
    "- $q_i$ è la domanda al vertice $i$\n",
    "- $c_{ij}$ è il costo dell'arco $(i,j)$\n",
    "\n",
    "Di base, il problema di ottimizzazione si occupa di minimizzare la seguente funzione obiettivo, dove i costi possono essere scelti arbitrariamente, nel nosto caso specifico si utilizzano delle semplici distanze euclidee. La funzione obiettivo è calcolata facendo la sommatoria del prodotto del costo $c_{ij}$ dell'arco moltiplicato per $x$, che indica l'utilizzo di quello specifico arco. La formulazione è:\n",
    "\n",
    "$$\\begin{align}\n",
    "\\min \\quad & \\sum_{i,j \\in V} c_{ij} x_{ij} && (1)\\\\\n",
    "\\end{align}$$\n",
    "\n",
    "Il paper proposto per la modellazione del BRP presenta diverse formulazioni. Noi ci siamo occupati di implementare tre delle quattro formulazioni proposte, non tenendo in considerazione l'algoritmo di Branch&Cut. Ogni formulazione si basa su dei vincoli, certi sono in comune tra tutte le formulazioni, mentre altri sono specifici per ognuna di esse.\n",
    "Oltre alla funzione obiettivo (1), i vincoli comuni a tutte le formulazioni sono:\n",
    "\n",
    "$$\\begin{align}\n",
    "\\text{vin.} \\quad & \\sum_{i\\in V} x_{ij} = 1  && j \\in V\\setminus \\{0\\}  && (2)\\\\\n",
    "& \\sum_{i\\in V} x_{ji} = 1 && j \\in V\\setminus \\{0\\} && (3) \\\\\n",
    "& \\sum_{j\\in V} x_{0j} \\leq m && && (4)\\\\\n",
    "& \\sum_{j\\in V\\setminus\\{0\\}} x_{0j} = \\sum_{j\\in V\\setminus\\{0\\}} x_{j0} && && (5)\\\\\n",
    "& x_{ij} \\in \\{0,1\\} && i,j \\in V && (7)\n",
    "\\end{align}$$\n",
    "\n",
    "I vincoli (2) e (3) impongono un'unica visita ad ogni nodo della rete, fatta eccezione per il deposito. I vincoli (4) e (5) garantiscono, rispettivamente, che al più $m$ veicoli partano dal deposito, e che tutti i veicoli impiegati per la redistribuzione rientrino al deposito alla fine del loro percorso. Il vincolo (7) implica semplicemente che le componenti di $x$ abbiano un valore pari a $0$, se non si passa dal nodo $i$ al nodo $j$, oppure a $1$, se si passa dal nodo $i$ al nodo $j$.\n",
    "\n",
    "Per la risoluzione del nostro problema abbiamo deciso di utilizzare Python con la libreria docplex, che può essere usata per risolvere problemi di programmazione lineare direttamente dal codice Python.\n",
    "\n",
    "Il progetto è diviso in altre 3 sezioni principali: nella prima andiamo ad inizializzare il problema per renderlo modellabile attraverso Python; nella seconda parte modelliamo le prime 3 formulazioni proposte dall'articolo, ogni formulazione avrà il proprio risultato e la visualizzazione del percorso; l'ultima sezione si comporta di test, andiamo quindi ad analizzare le performance delle formulazioni. \n",
    "\n",
    "\n",
    "## Inizializzazione del problema\n",
    "\n",
    "\n",
    "Per prima cosa andiamo quindi a generare in modo più o meno arbitrario gli elementi caratterizanti di questo problema di ottimizzazione. Oltre agli elementi già sopra definiti, aggiungiamo anche un insieme $N$, che contiene tutte le stazioni, ad esclusione del deposito. Questo insieme ci sarà utile più avanti nelle formulazioni dei vincoli. La domanda $q_i$ è generata casualmente ed i costi $c_{ij}$ vengono rappresentati come distanza euclidee tra i diversi nodi del sistema."
   ]
  },
  {
   "cell_type": "code",
   "execution_count": 1,
   "metadata": {},
   "outputs": [],
   "source": [
    "import numpy as np"
   ]
  },
  {
   "cell_type": "code",
   "execution_count": 2,
   "metadata": {},
   "outputs": [],
   "source": [
    "rnd = np.random\n",
    "#rnd.seed(0)"
   ]
  },
  {
   "cell_type": "code",
   "execution_count": 3,
   "metadata": {},
   "outputs": [],
   "source": [
    "n = 5                                            # numero stazioni\n",
    "N = [i for i in range(1, n+1)]                   # stazioni senza deposito\n",
    "V = [0] + N                                      # nodi: stazioni + deposito\n",
    "A = [(i, j) for i in V for j in V]               # archi\n",
    "m = 2                                            # numero veicoli\n",
    "Q = 10                                           # capacità dei veicoli\n",
    "q = {i: rnd.randint(-Q, Q) for i in V}           # domanda ai vertici\n",
    "q[0] = 0\n",
    "\n",
    "# generazione casuale coordinate\n",
    "loc_x = rnd.rand(len(V))*200\n",
    "loc_y = rnd.rand(len(V))*100\n",
    "\n",
    "c = {(i, j): \n",
    "        np.hypot(loc_x[i]-loc_x[j], loc_y[i]-loc_y[j]) \n",
    "             for i, j in A}                      # costi degli archi"
   ]
  },
  {
   "cell_type": "markdown",
   "metadata": {},
   "source": [
    "### Plot delle stazioni e del deposito\n",
    "\n",
    "Eseguiamo un plot delle stazioni generate casualmente, insieme ad ogni nodo è anche visualizzata la relativa domanda"
   ]
  },
  {
   "cell_type": "code",
   "execution_count": 4,
   "metadata": {},
   "outputs": [],
   "source": [
    "import matplotlib.pyplot as plt"
   ]
  },
  {
   "cell_type": "code",
   "execution_count": 5,
   "metadata": {},
   "outputs": [
    {
     "data": {
      "text/plain": [
       "(15.132157511141715, 206.8319058208281, 24.771896561591458, 96.128412235803)"
      ]
     },
     "execution_count": 5,
     "metadata": {},
     "output_type": "execute_result"
    },
    {
     "data": {
      "image/png": "[encoded data removed]",
      "text/plain": [
       "<Figure size 432x288 with 1 Axes>"
      ]
     },
     "metadata": {
      "needs_background": "light"
     },
     "output_type": "display_data"
    }
   ],
   "source": [
    "plt.scatter(loc_x[1:], loc_y[1:], c='b')\n",
    "for i in V:\n",
    "    plt.annotate('$q_%d=%d$' % (i, q[i]), (loc_x[i]+2, loc_y[i]))\n",
    "plt.plot(loc_x[0], loc_y[0], c='r', marker='s')\n",
    "plt.axis('equal')"
   ]
  },
  {
   "cell_type": "markdown",
   "metadata": {},
   "source": [
    "***\n",
    "\n",
    "## Modelli con CPLEX\n",
    "\n",
    "In questa sezione andremo a modellare le formulazioni, per far ciò, utilizzeremo delle chiamate a metodi definiti nella libreria docplex. Tra questi metodi possiamo vedere:\n",
    "- Il metodo *binary_var_dict*, che crea una variabile decisionale binaria con nome definito nel campo \"name\". Questa variabile decisionale sarà definita come un dizionario, dove le chiavi vengono passate come parametro. In questo caso le chiavi saranno tutti gli archi;\n",
    "- Il metodo *continous_var_dict*, funziona come la binary_var_dict, ma crea una variabile di tipo continua;\n",
    "- Il metodo *minimize* che definisce la funzione obiettivo;\n",
    "- Il metodo *add_constraints* che ci fa aggiungere un certo numero di vincoli, che viene passato come parametro;\n",
    "\n",
    "Esistono tanti altri metodi utilizzabili per semplificare la modellazione del problema, per esempio possiamo usare *sum* per eseguire una sommatoria o possiamo utilizzare *min* per calcolare il minimo degli elementi passati come parametri. Non indichiamo tutte le funzioni usate, perchè sono autoesplicative."
   ]
  },
  {
   "cell_type": "code",
   "execution_count": 6,
   "metadata": {},
   "outputs": [],
   "source": [
    "from docplex.mp.model import Model\n",
    "import itertools"
   ]
  },
  {
   "cell_type": "markdown",
   "metadata": {},
   "source": [
    "### Formulazione 1\n",
    "Alla formulazione 1 si aggiungono i seguenti vincoli:\n",
    "\n",
    "$$\\begin{align}\n",
    "& \\sum_{i\\in S}\\sum_{j\\in S} x_{ij} \\leq |S|-1 && S\\subseteq V \\setminus \\{0\\},  S\\neq\\emptyset && (6)\\\\\n",
    "& max\\{0,q_j\\} \\leq \\theta_j \\leq min\\{Q,Q+q_j\\} && j \\in V && (10) \\\\\n",
    "& \\theta_j \\geq \\theta_i + q_j - M(1-x_{ij}) && i \\in V, j \\in V \\setminus\\{0\\} && (11)\\\\\n",
    "& \\theta_i \\geq \\theta_j - q_j - M(1-x_{ij}) && i \\in V \\setminus\\{0\\}, j \\in V && (12)\\\\\n",
    "\\end{align}$$\n",
    "\n",
    "La serie di vincoli definita in (6) definisce i vincoli di subtour elimination che impongono la connettività della soluzione, per evitare che vi siano veicoli che partano da una stazione (non dal deposito). Il vincolo (10) si occupa semplicemente di imporre dei limiti, uno inferiore e uno superiore, al carico che può trasportare un veicolo, mentre i vincoli (11) e (12) sono dei vincoli lineari che impongono che il carico in uscita da un nodo sia pari a quello di entrata più la domanda del nodo di uscita, nel caso in cui la componente $x_{ij}$ sia pari a $1$.\n",
    "\n",
    "Nei vincoli (10), (11) e (12) viene definita una nuova variabile continua $\\theta_j$, la quale rappresenta il carico di un veicolo dopo che questo ha visitato il nodo $j$. Il valore di questa variabile va tenuto aggiornato durante tutto il tragitto tenendo in considerazione il fatto che, se il veicolo passa per l'arco $(i, j)$, allora $\\theta_j$  dovrà essere pari alla somma tra il carico precedente al nodo $i$, quindi $\\theta_i$, e la domanda al nodo $j$, definita come $q_j$."
   ]
  },
  {
   "cell_type": "code",
   "execution_count": 7,
   "metadata": {},
   "outputs": [],
   "source": [
    "f1 = Model('BikeSharingRebalancing-F1')"
   ]
  },
  {
   "cell_type": "code",
   "execution_count": 8,
   "metadata": {},
   "outputs": [],
   "source": [
    "# variabili decisionali\n",
    "x = f1.binary_var_dict(A, name='x')\n",
    "theta = f1.continuous_var_dict(V, name='theta')"
   ]
  },
  {
   "cell_type": "code",
   "execution_count": 9,
   "metadata": {
    "scrolled": false
   },
   "outputs": [
    {
     "name": "stdout",
     "output_type": "stream",
     "text": [
      "Version identifier: 12.10.0.0 | 2019-11-26 | 843d4de2ae\n",
      "CPXPARAM_Read_DataCheck                          1\n",
      "CPXPARAM_RandomSeed                              201903125\n",
      "Tried aggregator 1 time.\n",
      "MIP Presolve eliminated 341 rows and 9 columns.\n",
      "MIP Presolve modified 32 coefficients.\n",
      "Reduced MIP has 68 rows, 33 columns, and 295 nonzeros.\n",
      "Reduced MIP has 28 binaries, 0 generals, 0 SOSs, and 0 indicators.\n",
      "Presolve time = 0.02 sec. (1.02 ticks)\n",
      "Found incumbent of value 699.922343 after 0.02 sec. (1.44 ticks)\n",
      "Probing time = 0.00 sec. (0.07 ticks)\n",
      "Tried aggregator 1 time.\n",
      "Detecting symmetries...\n",
      "Reduced MIP has 68 rows, 33 columns, and 295 nonzeros.\n",
      "Reduced MIP has 28 binaries, 0 generals, 0 SOSs, and 0 indicators.\n",
      "Presolve time = 0.02 sec. (0.18 ticks)\n",
      "Probing time = 0.00 sec. (0.07 ticks)\n",
      "Clique table members: 16.\n",
      "MIP emphasis: balance optimality and feasibility.\n",
      "MIP search method: dynamic search.\n",
      "Parallel mode: deterministic, using up to 8 threads.\n",
      "Root relaxation solution time = 0.00 sec. (0.16 ticks)\n",
      "\n",
      "        Nodes                                         Cuts/\n",
      "   Node  Left     Objective  IInf  Best Integer    Best Bound    ItCnt     Gap\n",
      "\n",
      "*     0+    0                          699.9223        0.0000           100.00%\n",
      "      0     0      418.9998    12      699.9223      418.9998       27   40.14%\n",
      "*     0+    0                          659.2103      418.9998            36.44%\n",
      "      0     0      613.1352    12      659.2103      Cuts: 19       39    6.99%\n",
      "      0     0      613.1352    12      659.2103       Cuts: 8       47    6.99%\n",
      "      0     0      614.8096    12      659.2103       Cuts: 5       54    6.74%\n",
      "      0     0      619.1427    12      659.2103      Cuts: 13       58    6.08%\n",
      "*     0+    0                          636.0393      619.1427             2.66%\n",
      "      0     0      622.1464    12      636.0393   ZeroHalf: 1       61    2.18%\n",
      "Detecting symmetries...\n",
      "      0     0      622.1464    12      636.0393       Cuts: 5       64    2.18%\n",
      "      0     0        cutoff            636.0393      636.0393       64    0.00%\n",
      "Elapsed time = 0.13 sec. (5.41 ticks, tree = 0.01 MB, solutions = 3)\n",
      "\n",
      "Clique cuts applied:  2\n",
      "Implied bound cuts applied:  4\n",
      "Flow cuts applied:  1\n",
      "Zero-half cuts applied:  4\n",
      "\n",
      "Root node processing (before b&c):\n",
      "  Real time             =    0.14 sec. (5.42 ticks)\n",
      "Parallel b&c, 8 threads:\n",
      "  Real time             =    0.00 sec. (0.00 ticks)\n",
      "  Sync time (average)   =    0.00 sec.\n",
      "  Wait time (average)   =    0.00 sec.\n",
      "                          ------------\n",
      "Total (root+branch&cut) =    0.14 sec. (5.42 ticks)\n"
     ]
    }
   ],
   "source": [
    "# vincoli\n",
    "\n",
    "#1\n",
    "f1.minimize(f1.sum(c[i, j]*x[i, j] for i in V for j in V))\n",
    "\n",
    "#2\n",
    "f1.add_constraints(f1.sum(x[i, j] for i in V) == 1 for j in N)\n",
    "\n",
    "#3\n",
    "f1.add_constraints(f1.sum(x[j, i] for i in V) == 1 for j in N)\n",
    "\n",
    "#4\n",
    "f1.add_constraint(f1.sum(x[0, j] for j in V) <= m )\n",
    "\n",
    "#5\n",
    "f1.add_constraint(f1.sum(x[0, j] for j in N) == f1.sum(x[i, 0] for i in N))\n",
    "\n",
    "#6\n",
    "for i in range(1, len(N) + 1):\n",
    "    for S in itertools.permutations(N, i):\n",
    "        f1.add_constraint(f1.sum(x[i, j] for j in S for i in S) <= len(S)-1)\n",
    "        \n",
    "#7 - implementato nella definizione di x\n",
    "\n",
    "#10\n",
    "f1.add_constraints((f1.max(0, q[j]) <= theta[j]) for j in V)\n",
    "f1.add_constraints((theta[j] <= f1.min(Q, Q+q[j])) for j in V)\n",
    "\n",
    "#11\n",
    "f1.add_constraints(theta[j] >= theta[i] + q[j] - f1.min(Q, Q+q[j])*(1-x[i, j]) for i in V for j in N)\n",
    "\n",
    "#12\n",
    "f1.add_constraints(theta[i] >= theta[j] - q[j] - f1.min(Q, Q-q[j])*(1-x[i, j]) for i in N for j in V)\n",
    "\n",
    "#mdl.parameters.timelimit = 15\n",
    "solutionF1 = f1.solve(log_output=True)"
   ]
  },
  {
   "cell_type": "code",
   "execution_count": 10,
   "metadata": {
    "scrolled": true
   },
   "outputs": [
    {
     "name": "stdout",
     "output_type": "stream",
     "text": [
      "solution for: BikeSharingRebalancing-F1\n",
      "objective: 636.039\n",
      "x_0_2=1\n",
      "x_0_5=1\n",
      "x_1_3=1\n",
      "x_2_1=1\n",
      "x_3_0=1\n",
      "x_4_0=1\n",
      "x_5_4=1\n",
      "theta_1=5.000\n",
      "theta_2=2.000\n",
      "theta_3=8.000\n",
      "theta_5=9.000\n",
      "\n"
     ]
    }
   ],
   "source": [
    "print(solutionF1)"
   ]
  },
  {
   "cell_type": "code",
   "execution_count": 11,
   "metadata": {},
   "outputs": [
    {
     "name": "stdout",
     "output_type": "stream",
     "text": [
      "status  = integer optimal solution\n",
      "time    = 0.172 s.\n",
      "problem = MILP\n",
      "gap     = 0%\n",
      "\n"
     ]
    }
   ],
   "source": [
    "print(solutionF1.solve_details)"
   ]
  },
  {
   "cell_type": "markdown",
   "metadata": {},
   "source": [
    "#### Visualizzazione del percorso con le domande"
   ]
  },
  {
   "cell_type": "code",
   "execution_count": 12,
   "metadata": {},
   "outputs": [],
   "source": [
    "active_arcs = [a for a in A if x[a].solution_value > 0.9]"
   ]
  },
  {
   "cell_type": "code",
   "execution_count": 13,
   "metadata": {},
   "outputs": [
    {
     "data": {
      "text/plain": [
       "(15.132157511141715, 206.83190582082813, 24.771896561591454, 96.12841223580301)"
      ]
     },
     "execution_count": 13,
     "metadata": {},
     "output_type": "execute_result"
    },
    {
     "data": {
      "image/png": "[encoded data removed]",
      "text/plain": [
       "<Figure size 432x288 with 1 Axes>"
      ]
     },
     "metadata": {
      "needs_background": "light"
     },
     "output_type": "display_data"
    }
   ],
   "source": [
    "plt.scatter(loc_x[1:], loc_y[1:], c='b')\n",
    "for i in V:\n",
    "    plt.annotate('$q_%d=%d$' % (i, q[i]), (loc_x[i]+2, loc_y[i]))\n",
    "for i, j in active_arcs:\n",
    "    plt.plot([loc_x[i], loc_x[j]], [loc_y[i], loc_y[j]], c='g', alpha=0.3)\n",
    "plt.plot(loc_x[0], loc_y[0], c='r', marker='s')\n",
    "plt.axis('equal')"
   ]
  },
  {
   "cell_type": "markdown",
   "metadata": {},
   "source": [
    "#### Visualizzazione del percorso con il valore theta"
   ]
  },
  {
   "cell_type": "code",
   "execution_count": 14,
   "metadata": {
    "scrolled": false
   },
   "outputs": [
    {
     "data": {
      "text/plain": [
       "(15.132157511141715, 206.83190582082813, 24.771896561591454, 96.12841223580301)"
      ]
     },
     "execution_count": 14,
     "metadata": {},
     "output_type": "execute_result"
    },
    {
     "data": {
      "image/png": "[encoded data removed]",
      "text/plain": [
       "<Figure size 432x288 with 1 Axes>"
      ]
     },
     "metadata": {
      "needs_background": "light"
     },
     "output_type": "display_data"
    }
   ],
   "source": [
    "plt.scatter(loc_x[1:], loc_y[1:], c='b')\n",
    "for i in V:\n",
    "    plt.annotate('$θ_%d=%2.f$' % (i, theta[i]), (loc_x[i]+2, loc_y[i]))\n",
    "for i, j in active_arcs:\n",
    "    plt.plot([loc_x[i], loc_x[j]], [loc_y[i], loc_y[j]], c='g', alpha=0.3)\n",
    "plt.plot(loc_x[0], loc_y[0], c='r', marker='s')\n",
    "plt.axis('equal')"
   ]
  },
  {
   "cell_type": "code",
   "execution_count": 15,
   "metadata": {},
   "outputs": [],
   "source": [
    "del f1\n",
    "del solutionF1\n",
    "del x\n",
    "del theta"
   ]
  },
  {
   "cell_type": "markdown",
   "metadata": {},
   "source": [
    "***\n",
    "\n",
    "### Formulazione 2\n",
    "Alla formulazione 2 si aggiungono i seguenti vincoli:\n",
    "\n",
    "$$\\begin{align}\n",
    "& \\sum_{i\\in S}\\sum_{j\\in S} x_{ij} \\leq |S|-1 && S\\subseteq V \\setminus \\{0\\},  S\\neq\\emptyset && (6)\\\\\n",
    "& \\sum_{i\\in V}f_{ji} - \\sum_{i\\in V} f_{ij} = q_j && j \\in V\\setminus\\{0\\} && (13)\\\\\n",
    "& max\\{0, q_i, -q_j\\}x_{ij} \\leq f_{ij} \\leq min\\{Q, Q+q_i, Q - q_j\\}x_{ij} && (i, j) \\in A && (14)\n",
    "\\end{align}$$\n",
    "\n",
    "Anche in questo caso troviamo i vincoli per la subtour elimination (6), in comune con la formulazione 1. Il vincolo (13) modella l'equilibrio dei flussi sugli archi entranti ed uscenti da un certo nodo. Il vincolo (14) impone invece il lower e l'upper bounds del flusso su ogni arco.\n",
    "\n",
    "Nei vincoli (13) e (14) viene introdotta una nuova variabile $f_{ij}$, che rappresenta il flusso nell'arco $(i, j)$, ossia il carico sul veicolo che passa appunto sul percorso tra i nodi $i$ e $j$."
   ]
  },
  {
   "cell_type": "code",
   "execution_count": 16,
   "metadata": {},
   "outputs": [],
   "source": [
    "f2 = Model('BikeSharingRebalancing-F2')"
   ]
  },
  {
   "cell_type": "code",
   "execution_count": 17,
   "metadata": {},
   "outputs": [],
   "source": [
    "# variabili decisionali\n",
    "x = f2.binary_var_dict(A, name='x')\n",
    "f = f2.continuous_var_dict(A, name='f')"
   ]
  },
  {
   "cell_type": "code",
   "execution_count": 18,
   "metadata": {
    "scrolled": false
   },
   "outputs": [
    {
     "name": "stdout",
     "output_type": "stream",
     "text": [
      "Version identifier: 12.10.0.0 | 2019-11-26 | 843d4de2ae\n",
      "CPXPARAM_Read_DataCheck                          1\n",
      "CPXPARAM_RandomSeed                              201903125\n",
      "Found incumbent of value 679.628268 after 0.00 sec. (0.17 ticks)\n",
      "Tried aggregator 2 times.\n",
      "MIP Presolve eliminated 332 rows and 16 columns.\n",
      "Aggregator did 10 substitutions.\n",
      "Reduced MIP has 72 rows, 46 columns, and 348 nonzeros.\n",
      "Reduced MIP has 25 binaries, 0 generals, 0 SOSs, and 0 indicators.\n",
      "Presolve time = 0.02 sec. (1.36 ticks)\n",
      "Probing time = 0.00 sec. (0.08 ticks)\n",
      "Tried aggregator 1 time.\n",
      "Detecting symmetries...\n",
      "Reduced MIP has 72 rows, 46 columns, and 348 nonzeros.\n",
      "Reduced MIP has 25 binaries, 0 generals, 0 SOSs, and 0 indicators.\n",
      "Presolve time = 0.02 sec. (0.22 ticks)\n",
      "Probing time = 0.00 sec. (0.09 ticks)\n",
      "Clique table members: 16.\n",
      "MIP emphasis: balance optimality and feasibility.\n",
      "MIP search method: dynamic search.\n",
      "Parallel mode: deterministic, using up to 8 threads.\n",
      "Root relaxation solution time = 0.00 sec. (0.19 ticks)\n",
      "\n",
      "        Nodes                                         Cuts/\n",
      "   Node  Left     Objective  IInf  Best Integer    Best Bound    ItCnt     Gap\n",
      "\n",
      "*     0+    0                          679.6283        0.0000           100.00%\n",
      "      0     0      628.0009    10      679.6283      628.0009       31    7.60%\n",
      "*     0+    0                          636.0393      628.0009             1.26%\n",
      "      0     0      628.0049    10      636.0393       Cuts: 7       42    1.26%\n",
      "      0     0      633.2122    10      636.0393      Cuts: 18       54    0.44%\n",
      "      0     0      633.4847    10      636.0393       Cuts: 4       66    0.40%\n",
      "      0     0        cutoff            636.0393                     73    0.00%\n",
      "Elapsed time = 0.13 sec. (5.09 ticks, tree = 0.01 MB, solutions = 2)\n",
      "\n",
      "Implied bound cuts applied:  1\n",
      "Flow cuts applied:  4\n",
      "Mixed integer rounding cuts applied:  4\n",
      "Zero-half cuts applied:  1\n",
      "Lift and project cuts applied:  2\n",
      "\n",
      "Root node processing (before b&c):\n",
      "  Real time             =    0.14 sec. (5.10 ticks)\n",
      "Parallel b&c, 8 threads:\n",
      "  Real time             =    0.00 sec. (0.00 ticks)\n",
      "  Sync time (average)   =    0.00 sec.\n",
      "  Wait time (average)   =    0.00 sec.\n",
      "                          ------------\n",
      "Total (root+branch&cut) =    0.14 sec. (5.10 ticks)\n"
     ]
    }
   ],
   "source": [
    "# vincoli\n",
    "\n",
    "#1\n",
    "f2.minimize(f2.sum(c[i, j]*x[i, j] for i in V for j in V))\n",
    "\n",
    "#2\n",
    "f2.add_constraints(f2.sum(x[i, j] for i in V) == 1 for j in N)\n",
    "\n",
    "#3\n",
    "f2.add_constraints(f2.sum(x[j, i] for i in V) == 1 for j in N)\n",
    "\n",
    "#4\n",
    "f2.add_constraint(f2.sum(x[0, j] for j in V) <= m )\n",
    "\n",
    "#5\n",
    "f2.add_constraint(f2.sum(x[0, j] for j in N) == f2.sum(x[i, 0] for i in N))\n",
    "\n",
    "#6\n",
    "for i in range(1, len(N) + 1):\n",
    "    for S in itertools.permutations(N, i):\n",
    "        f2.add_constraint(f2.sum(x[i, j] for j in S for i in S) <= len(S)-1)\n",
    "\n",
    "#7 - implementato nella definizione di x\n",
    "        \n",
    "#13\n",
    "f2.add_constraints((f2.sum(f[j, i] for i in V) - f2.sum(f[i, j] for i in V)) == q[j] for j in N)\n",
    "\n",
    "#14\n",
    "f2.add_constraints(((f2.max(0, q[i], -q[j])*x[i, j]) <= f[i, j]) for i, j in A)\n",
    "f2.add_constraints((f[i,j] <= (f2.min(Q, Q+q[i], Q-q[j])*x[i, j])) for i, j in A)\n",
    "\n",
    "#mdl.parameters.timelimit = 15\n",
    "solutionF2 = f2.solve(log_output=True)"
   ]
  },
  {
   "cell_type": "code",
   "execution_count": 19,
   "metadata": {
    "scrolled": false
   },
   "outputs": [
    {
     "name": "stdout",
     "output_type": "stream",
     "text": [
      "solution for: BikeSharingRebalancing-F2\n",
      "objective: 636.039\n",
      "x_0_3=1\n",
      "x_0_4=1\n",
      "x_1_2=1\n",
      "x_2_0=1\n",
      "x_3_1=1\n",
      "x_4_5=1\n",
      "x_5_0=1\n",
      "f_0_3=2.000\n",
      "f_0_4=10.000\n",
      "f_1_2=8.000\n",
      "f_3_1=5.000\n",
      "f_4_5=1.000\n",
      "\n"
     ]
    }
   ],
   "source": [
    "print(solutionF2)"
   ]
  },
  {
   "cell_type": "code",
   "execution_count": 20,
   "metadata": {},
   "outputs": [
    {
     "name": "stdout",
     "output_type": "stream",
     "text": [
      "status  = integer optimal solution\n",
      "time    = 0.172 s.\n",
      "problem = MILP\n",
      "gap     = 0%\n",
      "\n"
     ]
    }
   ],
   "source": [
    "print(solutionF2.solve_details)"
   ]
  },
  {
   "cell_type": "markdown",
   "metadata": {},
   "source": [
    "#### Visualizzazione del percorso con le domande"
   ]
  },
  {
   "cell_type": "code",
   "execution_count": 21,
   "metadata": {},
   "outputs": [],
   "source": [
    "active_arcs = [a for a in A if x[a].solution_value > 0.9]"
   ]
  },
  {
   "cell_type": "code",
   "execution_count": 22,
   "metadata": {},
   "outputs": [
    {
     "data": {
      "text/plain": [
       "(15.132157511141715, 206.83190582082813, 24.771896561591454, 96.12841223580301)"
      ]
     },
     "execution_count": 22,
     "metadata": {},
     "output_type": "execute_result"
    },
    {
     "data": {
      "image/png": "[encoded data removed]",
      "text/plain": [
       "<Figure size 432x288 with 1 Axes>"
      ]
     },
     "metadata": {
      "needs_background": "light"
     },
     "output_type": "display_data"
    }
   ],
   "source": [
    "plt.scatter(loc_x[1:], loc_y[1:], c='b')\n",
    "for i in V:\n",
    "    plt.annotate('$q_%d=%d$' % (i, q[i]), (loc_x[i]+2, loc_y[i]))\n",
    "for i, j in active_arcs:\n",
    "    plt.plot([loc_x[i], loc_x[j]], [loc_y[i], loc_y[j]], c='g', alpha=0.3)\n",
    "plt.plot(loc_x[0], loc_y[0], c='r', marker='s')\n",
    "plt.axis('equal')"
   ]
  },
  {
   "cell_type": "markdown",
   "metadata": {},
   "source": [
    "#### Visualizzazione del percorso con il valore $f_{ij}$"
   ]
  },
  {
   "cell_type": "code",
   "execution_count": 23,
   "metadata": {
    "scrolled": true
   },
   "outputs": [
    {
     "data": {
      "text/plain": [
       "(15.132157511141715, 206.83190582082813, 24.771896561591454, 96.12841223580301)"
      ]
     },
     "execution_count": 23,
     "metadata": {},
     "output_type": "execute_result"
    },
    {
     "data": {
      "image/png": "[encoded data removed]",
      "text/plain": [
       "<Figure size 432x288 with 1 Axes>"
      ]
     },
     "metadata": {
      "needs_background": "light"
     },
     "output_type": "display_data"
    }
   ],
   "source": [
    "plt.scatter(loc_x[1:], loc_y[1:], c='b')\n",
    "for i, j in active_arcs:\n",
    "    plt.plot([loc_x[i], loc_x[j]], [loc_y[i], loc_y[j]], c='g', alpha=0.3)\n",
    "    if i > j:\n",
    "        plt.annotate('$f_{%d%d}=%2.f$' % (i, j, f[i, j]), ((loc_x[i]+loc_x[j])/2, (loc_y[i]+loc_y[j])/2))\n",
    "    else:\n",
    "        plt.annotate('$f_{%d%d}=%2.f$' % (i, j, f[i, j]), ((loc_x[i]+loc_x[j])/2, (loc_y[i]+loc_y[j])/2+5))\n",
    "plt.plot(loc_x[0], loc_y[0], c='r', marker='s')\n",
    "plt.axis('equal')"
   ]
  },
  {
   "cell_type": "markdown",
   "metadata": {},
   "source": [
    "***\n",
    "\n",
    "### Formulazione 3\n",
    "Alla formulazione 3 si aggiunge il seguente vincolo:\n",
    "\n",
    "$$\\begin{align}\n",
    "& \\sum_{i \\in S}\\sum_{j \\in S}x_{ij} \\leq |S| - max \\bigg\\{1, \\bigg \\lceil \\frac{|\\sum_{i \\in S}q_i|}{Q} \\bigg \\rceil \\bigg\\} && S \\subseteq V \\setminus \\{0\\}, S\\neq\\emptyset && (15)\n",
    "\\end{align}$$\n",
    "\n",
    "Il vincolo (15) impone che, per ogni sottoinsieme S di V, il numero di archi aventi gli estremi in S non sia superiore alla cardinalità meno il numero minimo di veicoli necessari per servire il sottoinsieme S."
   ]
  },
  {
   "cell_type": "code",
   "execution_count": 24,
   "metadata": {},
   "outputs": [],
   "source": [
    "f3 = Model('BikeSharingRebalancing-F3')"
   ]
  },
  {
   "cell_type": "code",
   "execution_count": 25,
   "metadata": {},
   "outputs": [],
   "source": [
    "# variabili decisionali\n",
    "\n",
    "x = f3.binary_var_dict(A, name='x')\n",
    "\n",
    "f = f3.continuous_var_dict(A, name='f')"
   ]
  },
  {
   "cell_type": "code",
   "execution_count": 26,
   "metadata": {},
   "outputs": [
    {
     "name": "stdout",
     "output_type": "stream",
     "text": [
      "Version identifier: 12.10.0.0 | 2019-11-26 | 843d4de2ae\n",
      "CPXPARAM_Read_DataCheck                          1\n",
      "CPXPARAM_RandomSeed                              201903125\n",
      "Tried aggregator 1 time.\n",
      "MIP Presolve eliminated 314 rows and 44 columns.\n",
      "MIP Presolve modified 210 coefficients.\n",
      "Reduced MIP has 23 rows, 28 columns, and 133 nonzeros.\n",
      "Reduced MIP has 28 binaries, 0 generals, 0 SOSs, and 0 indicators.\n",
      "Presolve time = 0.00 sec. (0.97 ticks)\n",
      "Found incumbent of value 699.922343 after 0.00 sec. (1.26 ticks)\n",
      "Probing time = 0.00 sec. (0.03 ticks)\n",
      "Tried aggregator 1 time.\n",
      "Detecting symmetries...\n",
      "Reduced MIP has 23 rows, 28 columns, and 133 nonzeros.\n",
      "Reduced MIP has 28 binaries, 0 generals, 0 SOSs, and 0 indicators.\n",
      "Presolve time = 0.00 sec. (0.08 ticks)\n",
      "Probing time = 0.00 sec. (0.03 ticks)\n",
      "Clique table members: 16.\n",
      "MIP emphasis: balance optimality and feasibility.\n",
      "MIP search method: dynamic search.\n",
      "Parallel mode: deterministic, using up to 8 threads.\n",
      "Root relaxation solution time = 0.00 sec. (0.05 ticks)\n",
      "\n",
      "        Nodes                                         Cuts/\n",
      "   Node  Left     Objective  IInf  Best Integer    Best Bound    ItCnt     Gap\n",
      "\n",
      "*     0+    0                          699.9223        0.0000           100.00%\n",
      "*     0     0      integral     0      636.0393      636.0393       15    0.00%\n",
      "Elapsed time = 0.03 sec. (1.52 ticks, tree = 0.00 MB, solutions = 2)\n",
      "\n",
      "Root node processing (before b&c):\n",
      "  Real time             =    0.03 sec. (1.53 ticks)\n",
      "Parallel b&c, 8 threads:\n",
      "  Real time             =    0.00 sec. (0.00 ticks)\n",
      "  Sync time (average)   =    0.00 sec.\n",
      "  Wait time (average)   =    0.00 sec.\n",
      "                          ------------\n",
      "Total (root+branch&cut) =    0.03 sec. (1.53 ticks)\n"
     ]
    }
   ],
   "source": [
    "import math\n",
    "# vincoli\n",
    "\n",
    "#1\n",
    "f3.minimize(f3.sum(c[i, j]*x[i, j] for i in V for j in V))\n",
    "\n",
    "#2\n",
    "f3.add_constraints(f3.sum(x[i, j] for i in V) == 1 for j in N)\n",
    "\n",
    "#3\n",
    "f3.add_constraints(f3.sum(x[j, i] for i in V) == 1 for j in N)\n",
    "\n",
    "#4\n",
    "f3.add_constraint(f3.sum(x[0, j] for j in V) <= m)\n",
    "\n",
    "#5\n",
    "f3.add_constraint(f3.sum(x[0, j] for j in N) == f3.sum(x[i, 0] for i in N))\n",
    "\n",
    "#7 - implementato nella definizione di x\n",
    "\n",
    "#15\n",
    "for i in range(1, len(N) + 1):\n",
    "    for S in itertools.permutations(N, i):\n",
    "        ceil = math.ceil(abs(sum(q[i] for i in S)))\n",
    "        f3.add_constraint(f3.sum(x[i, j] for j in S for i in S) <= len(S)-f3.max(1, ceil/Q))\n",
    "\n",
    "#mdl.parameters.timelimit = 15\n",
    "solutionF3 = f3.solve(log_output=True)"
   ]
  },
  {
   "cell_type": "code",
   "execution_count": 27,
   "metadata": {},
   "outputs": [
    {
     "name": "stdout",
     "output_type": "stream",
     "text": [
      "solution for: BikeSharingRebalancing-F3\n",
      "objective: 636.039\n",
      "x_0_2=1\n",
      "x_0_5=1\n",
      "x_1_3=1\n",
      "x_2_1=1\n",
      "x_3_0=1\n",
      "x_4_0=1\n",
      "x_5_4=1\n",
      "\n"
     ]
    }
   ],
   "source": [
    "print(solutionF3)"
   ]
  },
  {
   "cell_type": "code",
   "execution_count": 28,
   "metadata": {},
   "outputs": [
    {
     "name": "stdout",
     "output_type": "stream",
     "text": [
      "status  = integer optimal solution\n",
      "time    = 0.047 s.\n",
      "problem = MILP\n",
      "gap     = 0%\n",
      "\n"
     ]
    }
   ],
   "source": [
    "print(solutionF3.solve_details)"
   ]
  },
  {
   "cell_type": "markdown",
   "metadata": {},
   "source": [
    "#### Visualizzazione del percorso con le domande"
   ]
  },
  {
   "cell_type": "code",
   "execution_count": 29,
   "metadata": {},
   "outputs": [],
   "source": [
    "active_arcs = [a for a in A if x[a].solution_value > 0.9]"
   ]
  },
  {
   "cell_type": "code",
   "execution_count": 30,
   "metadata": {},
   "outputs": [
    {
     "data": {
      "text/plain": [
       "(15.132157511141715, 206.83190582082813, 24.771896561591454, 96.12841223580301)"
      ]
     },
     "execution_count": 30,
     "metadata": {},
     "output_type": "execute_result"
    },
    {
     "data": {
      "image/png": "[encoded data removed]",
      "text/plain": [
       "<Figure size 432x288 with 1 Axes>"
      ]
     },
     "metadata": {
      "needs_background": "light"
     },
     "output_type": "display_data"
    }
   ],
   "source": [
    "plt.scatter(loc_x[1:], loc_y[1:], c='b')\n",
    "for i in V:\n",
    "    plt.annotate('$q_%d=%d$' % (i, q[i]), (loc_x[i]+2, loc_y[i]))\n",
    "for i, j in active_arcs:\n",
    "    plt.plot([loc_x[i], loc_x[j]], [loc_y[i], loc_y[j]], c='g', alpha=0.3)\n",
    "plt.plot(loc_x[0], loc_y[0], c='r', marker='s')\n",
    "plt.axis('equal')"
   ]
  },
  {
   "cell_type": "markdown",
   "metadata": {},
   "source": [
    "***\n",
    "\n",
    "## Valutazione\n",
    "\n",
    "\n",
    "Per effettuare la valutazione abbiamo utilizzato il dataset *9Bergamo12* ed il dataset *12Parma10*, entrambi contengono il numero di nodi totali, il vettore della domanda, la capacità dei veicoli e la matrice dei costi tra i diversi nodi. La quantità di vertici non ci consetiva di concludere l'eleborazione, abbiamo quindi ridotto, in modo artificiale, il numero di nodi della rete. Nello specifico abbiamo creato un sottoinsieme con con 10, 9, 8 e 5 vertici. Questa diminuzione dei nodi è stata resa necessaria a causa dei vincoli (6) e (15), che portano alla generazione di un numero esponenziale di sottoinsiemi dei nodi e riempie velocemente la memoria RAM, portando ad un'interruzione improvvisa del programma con un numero superiore a 10 nodi, dopo 40 minuti di esecuzione.\n",
    "\n",
    "In un lavoro futuro sarebbe interessante andare a studiare il funzionamento delle *lazy constraint* in CPLEX, che permetterebbero di risolvere il problema, senza generare anticipatamente tutti i vicoli con tutti i sottoinsiemi possibili, ma aggiungerli incrementalmente solo quando le soluzioni trovate presentano dei subtour. \n",
    "\n",
    "Nella [Tabella 1](#tabella1) e nella [Tabella 2](#tabella2) sono riassunti i risultati della nostra valutazione, per ogni istanza del dataset e per le diverse dimensioni, abbiamo riportato il tempo della creazione dei vincoli più il tempo per la risoluzione del problema, il gap all'ottimo ed il gap percentuale tra la funzione obiettivo ottima del problema di PLI e quella del suo rilassamento continuo. Tutti i test sono stati eseguiti con la piattaforma IBM Cloud con il tool di decision optimization.\n",
    "\n",
    "\n",
    "<table>  \n",
    "  <caption align=\"bottom\" id=\"tabella1\">Tabella 1. Risultati dei test per 9Bergamo12</caption>\n",
    "  <col>\n",
    "  <colgroup span=\"3\" style=\"border-right: 1px solid #c5c5c5;\"></colgroup>\n",
    "  <colgroup span=\"3\" style=\"border-right: 1px solid #c5c5c5;\"></colgroup>\n",
    "  <tr>\n",
    "    <td rowspan=\"2\" style=\"text-align:center; font-weight: bold;\">V</td>\n",
    "    <th colspan=\"3\" scope=\"colgroup\" style=\"text-align:center; border-right: none !important;\">F1</th>\n",
    "    <th colspan=\"3\" scope=\"colgroup\" style=\"text-align:center\">F2</th>\n",
    "    <th colspan=\"3\" scope=\"colgroup\" style=\"text-align:center\">F3</th>\n",
    "  </tr>\n",
    "  <tr>\n",
    "    <th scope=\"col\">$Tempo$</th>\n",
    "    <th scope=\"col\">$Gap$</th>\n",
    "    <th scope=\"col\">$Gap_r$</th>\n",
    "    <th scope=\"col\">$Tempo$</th>\n",
    "    <th scope=\"col\">$Gap$</th>\n",
    "    <th scope=\"col\">$Gap_r$</th>\n",
    "    <th scope=\"col\">$Tempo$</th>\n",
    "    <th scope=\"col\">$Gap$</th>\n",
    "    <th scope=\"col\">$Gap_r$</th>\n",
    "  </tr>\n",
    "  <tr>\n",
    "    <th scope=\"row\">5</th>\n",
    "    <td>5s + 0s</td>\n",
    "    <td>0%</td>\n",
    "    <td>100%</td>\n",
    "    <td>2s + 0s</td>\n",
    "    <td>0%</td>\n",
    "    <td>62.02%</td>\n",
    "    <td>2s + 0s</td>\n",
    "    <td>0%</td>\n",
    "    <td>100%</td>\n",
    "  </tr>\n",
    "  <tr>\n",
    "    <th scope=\"row\">8</th>\n",
    "    <td>4s + 0s</td>\n",
    "    <td>0%</td>\n",
    "    <td>100%</td>\n",
    "    <td>4s + 0s</td>\n",
    "    <td>0%</td>\n",
    "    <td>72.92%</td>\n",
    "    <td>5s + 0s</td>\n",
    "    <td>0%</td>\n",
    "    <td>100%</td>\n",
    "  </tr>\n",
    "  <tr>\n",
    "    <th scope=\"row\">9</th>\n",
    "    <td>21s + 2s</td>\n",
    "    <td>0%</td>\n",
    "    <td>100%</td>\n",
    "    <td>20s + 2.56s</td>\n",
    "    <td>0%</td>\n",
    "    <td>72.55%</td>\n",
    "    <td>21s + 2s</td>\n",
    "    <td>0%</td>\n",
    "    <td>100%</td>\n",
    "  </tr>\n",
    "  <tr>\n",
    "    <th scope=\"row\">10</th>\n",
    "    <td>3m12s + 26.2s</td>\n",
    "    <td>0%</td>\n",
    "    <td>100%</td>\n",
    "    <td>3m20s + 32.70s</td>\n",
    "    <td>0%</td>\n",
    "    <td>74.07%</td>\n",
    "    <td>3m30s + 28s</td>\n",
    "    <td>0%</td>\n",
    "    <td>100%</td>\n",
    "  </tr>\n",
    "</table>\n",
    "\n",
    "\n",
    "\n",
    "<table>  \n",
    "  <caption align=\"bottom\" id=\"tabella2\">Tabella 2. Risultati dei test per 12Parma10</caption>\n",
    "  <col>\n",
    "  <colgroup span=\"3\" style=\"border-right: 1px solid #c5c5c5;\"></colgroup>\n",
    "  <colgroup span=\"3\" style=\"border-right: 1px solid #c5c5c5;\"></colgroup>\n",
    "  <tr>\n",
    "    <td rowspan=\"2\" style=\"text-align:center; font-weight: bold;\">V</td>\n",
    "    <th colspan=\"3\" scope=\"colgroup\" style=\"text-align:center; border-right: none !important;\">F1</th>\n",
    "    <th colspan=\"3\" scope=\"colgroup\" style=\"text-align:center\">F2</th>\n",
    "    <th colspan=\"3\" scope=\"colgroup\" style=\"text-align:center\">F3</th>\n",
    "  </tr>\n",
    "  <tr>\n",
    "    <th scope=\"col\">$Tempo$</th>\n",
    "    <th scope=\"col\">$Gap$</th>\n",
    "    <th scope=\"col\">$Gap_r$</th>\n",
    "    <th scope=\"col\">$Tempo$</th>\n",
    "    <th scope=\"col\">$Gap$</th>\n",
    "    <th scope=\"col\">$Gap_r$</th>\n",
    "    <th scope=\"col\">$Tempo$</th>\n",
    "    <th scope=\"col\">$Gap$</th>\n",
    "    <th scope=\"col\">$Gap_r$</th>\n",
    "  </tr>\n",
    "  <tr>\n",
    "    <th scope=\"row\">5</th>\n",
    "    <td>3s + 0s</td>\n",
    "    <td>0%</td>\n",
    "    <td>100%</td>\n",
    "    <td>3s + 0s</td>\n",
    "    <td>0%</td>\n",
    "    <td>90.77%</td>\n",
    "    <td>2s + 0</td>\n",
    "    <td>0%</td>\n",
    "    <td>100%</td>\n",
    "  </tr>\n",
    "  <tr>\n",
    "    <th scope=\"row\">8</th>\n",
    "    <td>6s + 0.28s</td>\n",
    "    <td>0%</td>\n",
    "    <td>100%</td>\n",
    "    <td>10s + 0.23s</td>\n",
    "    <td>0%</td>\n",
    "    <td>100%</td>\n",
    "    <td>4s + 0.4s</td>\n",
    "    <td>0%</td>\n",
    "    <td>100%</td>\n",
    "  </tr>\n",
    "  <tr>\n",
    "    <th scope=\"row\">9</th>\n",
    "    <td>27s + 3.25s</td>\n",
    "    <td>0%</td>\n",
    "    <td>100%</td>\n",
    "    <td>27s + 2.66s</td>\n",
    "    <td>0%</td>\n",
    "    <td>100%</td>\n",
    "    <td>23s+ 2.23s</td>\n",
    "    <td>0%</td>\n",
    "    <td>100%</td>\n",
    "  </tr>\n",
    "  <tr>\n",
    "    <th scope=\"row\">10</th>\n",
    "    <td>3.03min + 34.19s</td>\n",
    "    <td>0%</td>\n",
    "    <td>100%</td>\n",
    "    <td>4.18m + 34s</td>\n",
    "    <td>0%</td>\n",
    "    <td>100%</td>\n",
    "    <td>3.26m + 27s </td>\n",
    "    <td>0%</td>\n",
    "    <td>100%</td>\n",
    "  </tr>\n",
    "</table>"
   ]
  },
  {
   "cell_type": "markdown",
   "metadata": {},
   "source": [
    "Da come si può vedere dai dati delle tabelle, la maggior parte del tempo è utilizzato per creare i vincoli del problema, nello specifico, creare tutte le combinazioni di vertici, neccessari ai vincoli (6) e (15). Dai test effettuati, le formulazioni F1 ed F3 sembrano migliori della F2, per quanto riguarda il tempo; invece F2 ha un $Gap_r$ minore. Visto l'esiguo numero di nodi utilizzabili nelle diverse istanze, non è possibile capire appieno le potenzialità delle diverse formulazioni.\n",
    "\n",
    "\n",
    "Per completezza inseriamo il codice utilizzato per leggere i dataset ed inizializzare le variabili del sistema, il codice delle formulazioni rimane lo stesso."
   ]
  },
  {
   "cell_type": "code",
   "execution_count": null,
   "metadata": {},
   "outputs": [],
   "source": [
    "dataset  = open(\"testset/5/1Bari30.txt\", \"r\")\n",
    "\n",
    "i = 0\n",
    "\n",
    "while True:\n",
    "    line = dataset.readline()\n",
    "\n",
    "    if not line:\n",
    "      break\n",
    "\n",
    "    if(i == 0):\n",
    "      nNodi = int(line)\n",
    "      costi = {(i, j): 0 for i in range(nNodi) for j in range(nNodi)}\n",
    "    elif(i == 1):\n",
    "      qVertici = [ int(q) for q in line.split()]\n",
    "    elif(i == 2):\n",
    "      cVeicoli = int(line)\n",
    "    else:\n",
    "      j = 0\n",
    "      for el in line.split():\n",
    "        costi[(i-3, j)] = float(el)\n",
    "        j = j+1\n",
    "      \n",
    "    i = i+1\n",
    "\n",
    "dataset.close()"
   ]
  },
  {
   "cell_type": "code",
   "execution_count": null,
   "metadata": {},
   "outputs": [],
   "source": [
    "n = nNodi                                        # numero stazioni\n",
    "N = [i for i in range(1, n)]                     # stazioni senza deposito\n",
    "V = [0] + N                                      # nodi, stazioni + deposito\n",
    "A = [(i, j) for i in V for j in V]               # archi\n",
    "m = 10                                           # numero veicoli\n",
    "Q = cVeicoli                                     # capacità dei veicoli\n",
    "q = qVertici                                     # domanda ai vertici\n",
    "c = costi"
   ]
  }
 ],
 "metadata": {
  "kernelspec": {
   "display_name": "Python 3",
   "language": "python",
   "name": "python3"
  },
  "language_info": {
   "codemirror_mode": {
    "name": "ipython",
    "version": 3
   },
   "file_extension": ".py",
   "mimetype": "text/x-python",
   "name": "python",
   "nbconvert_exporter": "python",
   "pygments_lexer": "ipython3",
   "version": "3.7.7"
  }
 },
 "nbformat": 4,
 "nbformat_minor": 2
}
